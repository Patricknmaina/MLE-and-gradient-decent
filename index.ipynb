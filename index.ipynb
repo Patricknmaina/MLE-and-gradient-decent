{
 "cells": [
  {
   "cell_type": "markdown",
   "metadata": {},
   "source": [
    "# Gradient Decent and MLE\n",
    "Logistic regression using gradient descent and maximum likelihood estimation (MLE)."
   ]
  },
  {
   "cell_type": "code",
   "execution_count": 98,
   "metadata": {},
   "outputs": [],
   "source": [
    "# imports \n",
    "import numpy as np\n",
    "import seaborn as sns\n",
    "import matplotlib.pyplot as plt \n",
    "from sklearn.datasets import make_classification\n",
    "from sklearn.model_selection import train_test_split\n",
    "from sklearn.preprocessing import StandardScaler"
   ]
  },
  {
   "cell_type": "markdown",
   "id": "126bc9ab",
   "metadata": {},
   "source": [
    "## Sigmoid Function"
   ]
  },
  {
   "cell_type": "markdown",
   "id": "840f73f9",
   "metadata": {},
   "source": [
    "The sigmoid function takes an input z (which can be any real number), and squashes it into the range (0,1)\n",
    "\n",
    "This is perfect for binary classification, where we want to interpret the output as the probability of class 1."
   ]
  },
  {
   "cell_type": "code",
   "execution_count": 99,
   "metadata": {},
   "outputs": [],
   "source": [
    "# Sigmoid function\n",
    "def sigmoid(z):\n",
    "    return 1 / (1 + np.exp(-z))"
   ]
  },
  {
   "cell_type": "code",
   "execution_count": 100,
   "id": "e2af98b4",
   "metadata": {},
   "outputs": [
    {
     "data": {
      "text/plain": [
       "array([-10.        ,  -9.7979798 ,  -9.5959596 ,  -9.39393939,\n",
       "        -9.19191919,  -8.98989899,  -8.78787879,  -8.58585859,\n",
       "        -8.38383838,  -8.18181818,  -7.97979798,  -7.77777778,\n",
       "        -7.57575758,  -7.37373737,  -7.17171717,  -6.96969697,\n",
       "        -6.76767677,  -6.56565657,  -6.36363636,  -6.16161616,\n",
       "        -5.95959596,  -5.75757576,  -5.55555556,  -5.35353535,\n",
       "        -5.15151515,  -4.94949495,  -4.74747475,  -4.54545455,\n",
       "        -4.34343434,  -4.14141414,  -3.93939394,  -3.73737374,\n",
       "        -3.53535354,  -3.33333333,  -3.13131313,  -2.92929293,\n",
       "        -2.72727273,  -2.52525253,  -2.32323232,  -2.12121212,\n",
       "        -1.91919192,  -1.71717172,  -1.51515152,  -1.31313131,\n",
       "        -1.11111111,  -0.90909091,  -0.70707071,  -0.50505051,\n",
       "        -0.3030303 ,  -0.1010101 ,   0.1010101 ,   0.3030303 ,\n",
       "         0.50505051,   0.70707071,   0.90909091,   1.11111111,\n",
       "         1.31313131,   1.51515152,   1.71717172,   1.91919192,\n",
       "         2.12121212,   2.32323232,   2.52525253,   2.72727273,\n",
       "         2.92929293,   3.13131313,   3.33333333,   3.53535354,\n",
       "         3.73737374,   3.93939394,   4.14141414,   4.34343434,\n",
       "         4.54545455,   4.74747475,   4.94949495,   5.15151515,\n",
       "         5.35353535,   5.55555556,   5.75757576,   5.95959596,\n",
       "         6.16161616,   6.36363636,   6.56565657,   6.76767677,\n",
       "         6.96969697,   7.17171717,   7.37373737,   7.57575758,\n",
       "         7.77777778,   7.97979798,   8.18181818,   8.38383838,\n",
       "         8.58585859,   8.78787879,   8.98989899,   9.19191919,\n",
       "         9.39393939,   9.5959596 ,   9.7979798 ,  10.        ])"
      ]
     },
     "execution_count": 100,
     "metadata": {},
     "output_type": "execute_result"
    }
   ],
   "source": [
    "# example\n",
    "# Generate input values\n",
    "z = np.linspace(-10, 10, 100)\n",
    "z"
   ]
  },
  {
   "cell_type": "code",
   "execution_count": 101,
   "id": "4c4b6803",
   "metadata": {},
   "outputs": [
    {
     "data": {
      "text/plain": [
       "array([4.53978687e-05, 5.55606489e-05, 6.79983174e-05, 8.32200197e-05,\n",
       "       1.01848815e-04, 1.24647146e-04, 1.52547986e-04, 1.86692945e-04,\n",
       "       2.28478855e-04, 2.79614739e-04, 3.42191434e-04, 4.18766684e-04,\n",
       "       5.12469082e-04, 6.27124987e-04, 7.67413430e-04, 9.39055039e-04,\n",
       "       1.14904229e-03, 1.40591988e-03, 1.72012560e-03, 2.10440443e-03,\n",
       "       2.57431039e-03, 3.14881358e-03, 3.85103236e-03, 4.70911357e-03,\n",
       "       5.75728612e-03, 7.03711536e-03, 8.59898661e-03, 1.05038445e-02,\n",
       "       1.28252101e-02, 1.56514861e-02, 1.90885420e-02, 2.32625358e-02,\n",
       "       2.83228820e-02, 3.44451957e-02, 4.18339400e-02, 5.07243606e-02,\n",
       "       6.13831074e-02, 7.41067363e-02, 8.92170603e-02, 1.07052146e-01,\n",
       "       1.27951705e-01, 1.52235823e-01, 1.80176593e-01, 2.11963334e-01,\n",
       "       2.47663801e-01, 2.87185901e-01, 3.30246430e-01, 3.76354517e-01,\n",
       "       4.24816868e-01, 4.74768924e-01, 5.25231076e-01, 5.75183132e-01,\n",
       "       6.23645483e-01, 6.69753570e-01, 7.12814099e-01, 7.52336199e-01,\n",
       "       7.88036666e-01, 8.19823407e-01, 8.47764177e-01, 8.72048295e-01,\n",
       "       8.92947854e-01, 9.10782940e-01, 9.25893264e-01, 9.38616893e-01,\n",
       "       9.49275639e-01, 9.58166060e-01, 9.65554804e-01, 9.71677118e-01,\n",
       "       9.76737464e-01, 9.80911458e-01, 9.84348514e-01, 9.87174790e-01,\n",
       "       9.89496155e-01, 9.91401013e-01, 9.92962885e-01, 9.94242714e-01,\n",
       "       9.95290886e-01, 9.96148968e-01, 9.96851186e-01, 9.97425690e-01,\n",
       "       9.97895596e-01, 9.98279874e-01, 9.98594080e-01, 9.98850958e-01,\n",
       "       9.99060945e-01, 9.99232587e-01, 9.99372875e-01, 9.99487531e-01,\n",
       "       9.99581233e-01, 9.99657809e-01, 9.99720385e-01, 9.99771521e-01,\n",
       "       9.99813307e-01, 9.99847452e-01, 9.99875353e-01, 9.99898151e-01,\n",
       "       9.99916780e-01, 9.99932002e-01, 9.99944439e-01, 9.99954602e-01])"
      ]
     },
     "execution_count": 101,
     "metadata": {},
     "output_type": "execute_result"
    }
   ],
   "source": [
    "# get sigmoid outputs \n",
    "sig = sigmoid(z)\n",
    "sig"
   ]
  },
  {
   "cell_type": "code",
   "execution_count": 102,
   "id": "d8a1fff7",
   "metadata": {},
   "outputs": [
    {
     "data": {
      "text/plain": [
       "<Axes: >"
      ]
     },
     "execution_count": 102,
     "metadata": {},
     "output_type": "execute_result"
    },
    {
     "data": {
      "image/png": "[encoded data removed]",
      "text/plain": [
       "<Figure size 640x480 with 1 Axes>"
      ]
     },
     "metadata": {},
     "output_type": "display_data"
    }
   ],
   "source": [
    "# line plot\n",
    "sns.lineplot(sig)"
   ]
  },
  {
   "cell_type": "markdown",
   "id": "5ebc41ab",
   "metadata": {},
   "source": [
    "## Binary Cross-Entropy (Negative Log-Likelihood) Loss Function\n",
    "\n",
    "This loss function is used in **binary classification** to measure how well the predicted probabilities match the actual labels.\n"
   ]
  },
  {
   "cell_type": "code",
   "execution_count": 103,
   "metadata": {},
   "outputs": [],
   "source": [
    "# Loss function: Negative log-likelihood (binary cross-entropy)\n",
    "def compute_loss(y, y_pred):\n",
    "    y_pred = np.clip(y_pred, 1e-10, 1 - 1e-10)  # avoid log(0)\n",
    "    return -np.mean(y * np.log(y_pred) + (1 - y) * np.log(1 - y_pred))"
   ]
  },
  {
   "cell_type": "markdown",
   "id": "7910eb73",
   "metadata": {},
   "source": [
    "# Gradient Descent in Logistic Regression\n",
    "\n",
    "Gradient Descent is an optimization algorithm used to **minimize a loss function** by iteratively updating model parameters (weights and bias) in the direction that reduces the loss.\n",
    "\n",
    "---\n",
    "\n",
    "## The Goal\n",
    "\n",
    "We want to find parameters **w** and **b** that minimize the loss (e.g., binary cross-entropy):\n",
    "\n",
    "$$\n",
    "J(\\mathbf{w}, b) = -\\frac{1}{n} \\sum_{i=1}^{n} \\left[ y_i \\log(\\hat{y}_i) + (1 - y_i) \\log(1 - \\hat{y}_i) \\right]\n",
    "$$\n",
    "\n",
    "Where:\n",
    "\n",
    "- $\\hat{y}_i = \\sigma(\\mathbf{w}^T \\mathbf{x}_i + b)$\n",
    "- $\\sigma$ is the sigmoid function\n",
    "\n",
    "---\n",
    "\n",
    "## How It Works\n",
    "\n",
    "Each iteration of gradient descent updates the weights and bias as:\n",
    "\n",
    "$$\n",
    "\\mathbf{w} \\leftarrow \\mathbf{w} - \\alpha \\cdot \\frac{\\partial J}{\\partial \\mathbf{w}}\n",
    "$$\n",
    "\n",
    "$$\n",
    "b \\leftarrow b - \\alpha \\cdot \\frac{\\partial J}{\\partial b}\n",
    "$$\n",
    "\n",
    "Where:\n",
    "\n",
    "- $\\alpha$ is the **learning rate**\n",
    "- $\\frac{\\partial J}{\\partial \\mathbf{w}}$, $\\frac{\\partial J}{\\partial b}$ are the gradients\n"
   ]
  },
  {
   "cell_type": "code",
   "execution_count": null,
   "metadata": {},
   "outputs": [],
   "source": [
    "# Gradient descent-based logistic regression\n",
    "def logistic_regression(X, y, learning_rate=0.1, n_iterations=100):\n",
    "    \n",
    "    n_samples, n_features = X.shape\n",
    "    weights = np.zeros(n_features)\n",
    "    bias = 0\n",
    "    losses = []\n",
    "    weights_history = []\n",
    "\n",
    "    for i in range(n_iterations):\n",
    "        \n",
    "        z = np.dot(X, weights) + bias\n",
    "        y_pred = sigmoid(z)\n",
    "        error = y_pred - y\n",
    "        \n",
    "        dw = np.dot(X.T, error) / n_samples\n",
    "        db = np.sum(error) / n_samples\n",
    "        \n",
    "        \n",
    "        weights -= learning_rate * dw\n",
    "        bias -= learning_rate * db\n",
    "        \n",
    "        loss = compute_loss(y, y_pred)\n",
    "        \n",
    "        losses.append(loss)\n",
    "        weights_history.append(weights.copy())\n",
    "        \n",
    "        if i % 10 == 0:\n",
    "            loss = compute_loss(y, y_pred)\n",
    "            print(f\"Iteration {i}, Loss: {loss:.4f}\")\n",
    "            \n",
    "    return weights, bias,losses,weights_history"
   ]
  },
  {
   "cell_type": "markdown",
   "id": "565b3124",
   "metadata": {},
   "source": [
    "## Prediction Function in Logistic Regression\n",
    "\n",
    "The `predict` function uses the learned weights and bias to make binary classification decisions based on the logistic regression model.\n",
    "\n",
    "---\n",
    "\n",
    "### How It Works:\n",
    "\n",
    "1. **Linear Combination**:\n",
    "\n",
    "$$\n",
    "z = \\mathbf{X} \\cdot \\mathbf{w} + b\n",
    "$$\n",
    "\n",
    "2. **Sigmoid Activation** (Probability of class 1):\n",
    "\n",
    "$$\n",
    "\\hat{y} = \\sigma(z) = \\frac{1}{1 + e^{-z}}\n",
    "$$\n",
    "\n",
    "3. **Thresholding** (Classification Rule):\n",
    "\n",
    "$$\n",
    "\\text{prediction} =\n",
    "\\begin{cases}\n",
    "1 & \\text{if } \\hat{y} \\geq 0.5 \\\\\n",
    "0 & \\text{otherwise}\n",
    "\\end{cases}\n",
    "$$"
   ]
  },
  {
   "cell_type": "code",
   "execution_count": 105,
   "metadata": {},
   "outputs": [],
   "source": [
    "# Predict function\n",
    "def predict(X, weights, bias, threshold=0.5):\n",
    "    probs = sigmoid(np.dot(X, weights) + bias)\n",
    "    return (probs >= threshold).astype(int)"
   ]
  },
  {
   "cell_type": "markdown",
   "metadata": {},
   "source": [
    "## Example: Using Synthetic Data"
   ]
  },
  {
   "cell_type": "code",
   "execution_count": 106,
   "metadata": {},
   "outputs": [],
   "source": [
    "# Generate binary classification dataset\n",
    "X, y = make_classification(n_samples=1000, n_features=4, n_classes=2, random_state=42)\n",
    "X_train, X_test, y_train, y_test = train_test_split(X, y, test_size=0.2, random_state=42)\n"
   ]
  },
  {
   "cell_type": "code",
   "execution_count": 107,
   "id": "0638eea9",
   "metadata": {},
   "outputs": [],
   "source": [
    "# Standardize features\n",
    "scaler = StandardScaler()\n",
    "X_train_scaled = scaler.fit_transform(X_train)\n",
    "X_test_scaled = scaler.transform(X_test)"
   ]
  },
  {
   "cell_type": "code",
   "execution_count": 108,
   "metadata": {},
   "outputs": [
    {
     "name": "stdout",
     "output_type": "stream",
     "text": [
      "Iteration 0, Loss: 0.6931\n",
      "Iteration 10, Loss: 0.7250\n",
      "Iteration 20, Loss: 0.7250\n",
      "Iteration 30, Loss: 0.7250\n",
      "Iteration 40, Loss: 0.7250\n",
      "Iteration 50, Loss: 0.7250\n",
      "Iteration 60, Loss: 0.7250\n",
      "Iteration 70, Loss: 0.7250\n",
      "Iteration 80, Loss: 0.7250\n",
      "Iteration 90, Loss: 0.7250\n",
      "Iteration 100, Loss: 0.7250\n",
      "Iteration 110, Loss: 0.7250\n",
      "Iteration 120, Loss: 0.7250\n",
      "Iteration 130, Loss: 0.7250\n",
      "Iteration 140, Loss: 0.7250\n",
      "Iteration 150, Loss: 0.7250\n",
      "Iteration 160, Loss: 0.7250\n",
      "Iteration 170, Loss: 0.7250\n",
      "Iteration 180, Loss: 0.7250\n",
      "Iteration 190, Loss: 0.7250\n",
      "Iteration 200, Loss: 0.7250\n",
      "Iteration 210, Loss: 0.7250\n",
      "Iteration 220, Loss: 0.7250\n",
      "Iteration 230, Loss: 0.7250\n",
      "Iteration 240, Loss: 0.7250\n",
      "Iteration 250, Loss: 0.7250\n",
      "Iteration 260, Loss: 0.7250\n",
      "Iteration 270, Loss: 0.7250\n",
      "Iteration 280, Loss: 0.7250\n",
      "Iteration 290, Loss: 0.7250\n",
      "Iteration 300, Loss: 0.7250\n",
      "Iteration 310, Loss: 0.7250\n",
      "Iteration 320, Loss: 0.7250\n",
      "Iteration 330, Loss: 0.7250\n",
      "Iteration 340, Loss: 0.7250\n",
      "Iteration 350, Loss: 0.7250\n",
      "Iteration 360, Loss: 0.7250\n",
      "Iteration 370, Loss: 0.7250\n",
      "Iteration 380, Loss: 0.7250\n",
      "Iteration 390, Loss: 0.7250\n",
      "Iteration 400, Loss: 0.7250\n",
      "Iteration 410, Loss: 0.7250\n",
      "Iteration 420, Loss: 0.7250\n",
      "Iteration 430, Loss: 0.7250\n",
      "Iteration 440, Loss: 0.7250\n",
      "Iteration 450, Loss: 0.7250\n",
      "Iteration 460, Loss: 0.7250\n",
      "Iteration 470, Loss: 0.7250\n",
      "Iteration 480, Loss: 0.7250\n",
      "Iteration 490, Loss: 0.7250\n",
      "Iteration 500, Loss: 0.7250\n",
      "Iteration 510, Loss: 0.7250\n",
      "Iteration 520, Loss: 0.7250\n",
      "Iteration 530, Loss: 0.7250\n",
      "Iteration 540, Loss: 0.7250\n",
      "Iteration 550, Loss: 0.7250\n",
      "Iteration 560, Loss: 0.7250\n",
      "Iteration 570, Loss: 0.7250\n",
      "Iteration 580, Loss: 0.7250\n",
      "Iteration 590, Loss: 0.7250\n",
      "Iteration 600, Loss: 0.7250\n",
      "Iteration 610, Loss: 0.7250\n",
      "Iteration 620, Loss: 0.7250\n",
      "Iteration 630, Loss: 0.7250\n",
      "Iteration 640, Loss: 0.7250\n",
      "Iteration 650, Loss: 0.7250\n",
      "Iteration 660, Loss: 0.7250\n",
      "Iteration 670, Loss: 0.7250\n",
      "Iteration 680, Loss: 0.7250\n",
      "Iteration 690, Loss: 0.7250\n",
      "Iteration 700, Loss: 0.7250\n",
      "Iteration 710, Loss: 0.7250\n",
      "Iteration 720, Loss: 0.7250\n",
      "Iteration 730, Loss: 0.7250\n",
      "Iteration 740, Loss: 0.7250\n",
      "Iteration 750, Loss: 0.7250\n",
      "Iteration 760, Loss: 0.7250\n",
      "Iteration 770, Loss: 0.7250\n",
      "Iteration 780, Loss: 0.7250\n",
      "Iteration 790, Loss: 0.7250\n",
      "Iteration 800, Loss: 0.7250\n",
      "Iteration 810, Loss: 0.7250\n",
      "Iteration 820, Loss: 0.7250\n",
      "Iteration 830, Loss: 0.7250\n",
      "Iteration 840, Loss: 0.7250\n",
      "Iteration 850, Loss: 0.7250\n",
      "Iteration 860, Loss: 0.7250\n",
      "Iteration 870, Loss: 0.7250\n",
      "Iteration 880, Loss: 0.7250\n",
      "Iteration 890, Loss: 0.7250\n",
      "Iteration 900, Loss: 0.7250\n",
      "Iteration 910, Loss: 0.7250\n",
      "Iteration 920, Loss: 0.7250\n",
      "Iteration 930, Loss: 0.7250\n",
      "Iteration 940, Loss: 0.7250\n",
      "Iteration 950, Loss: 0.7250\n",
      "Iteration 960, Loss: 0.7250\n",
      "Iteration 970, Loss: 0.7250\n",
      "Iteration 980, Loss: 0.7250\n",
      "Iteration 990, Loss: 0.7250\n"
     ]
    }
   ],
   "source": [
    "# Train logistic regression model\n",
    "weights, bias,losses,weights_history = logistic_regression(X_train_scaled, y_train, learning_rate=0.1, n_iterations=1000)"
   ]
  },
  {
   "cell_type": "code",
   "execution_count": 109,
   "id": "1719593b",
   "metadata": {},
   "outputs": [
    {
     "data": {
      "text/plain": [
       "array([-0.00194578,  0.02749714, -0.03694049,  0.03434979])"
      ]
     },
     "execution_count": 109,
     "metadata": {},
     "output_type": "execute_result"
    }
   ],
   "source": [
    "# weights \n",
    "\n",
    "weights"
   ]
  },
  {
   "cell_type": "code",
   "execution_count": 110,
   "id": "1f7653d9",
   "metadata": {},
   "outputs": [
    {
     "data": {
      "text/plain": [
       "np.float64(-0.0003843888042848405)"
      ]
     },
     "execution_count": 110,
     "metadata": {},
     "output_type": "execute_result"
    }
   ],
   "source": [
    "# bias\n",
    "\n",
    "bias"
   ]
  },
  {
   "cell_type": "code",
   "execution_count": 111,
   "id": "44a886c0",
   "metadata": {},
   "outputs": [
    {
     "data": {
      "image/png": "[encoded data removed]",
      "text/plain": [
       "<Figure size 1000x600 with 1 Axes>"
      ]
     },
     "metadata": {},
     "output_type": "display_data"
    }
   ],
   "source": [
    "# plot weight histories\n",
    "\n",
    "weights_history = np.array(weights_history)\n",
    "\n",
    "plt.figure(figsize=(10, 6))\n",
    "for i in range(weights_history.shape[1]):\n",
    "    plt.plot(weights_history[:, i], label=f'Weight {i}')\n",
    "\n",
    "plt.title('Weight Updates Over Time')\n",
    "plt.xlabel('Iteration')\n",
    "plt.ylabel('Weight Value')\n",
    "plt.legend()\n",
    "plt.grid(True)\n",
    "plt.show()"
   ]
  },
  {
   "cell_type": "code",
   "execution_count": 112,
   "id": "01363887",
   "metadata": {},
   "outputs": [
    {
     "data": {
      "text/plain": [
       "<Axes: >"
      ]
     },
     "execution_count": 112,
     "metadata": {},
     "output_type": "execute_result"
    },
    {
     "data": {
      "image/png": "[encoded data removed]",
      "text/plain": [
       "<Figure size 640x480 with 1 Axes>"
      ]
     },
     "metadata": {},
     "output_type": "display_data"
    }
   ],
   "source": [
    "# plot losses \n",
    "sns.lineplot(losses)"
   ]
  },
  {
   "cell_type": "code",
   "execution_count": 113,
   "metadata": {},
   "outputs": [
    {
     "name": "stdout",
     "output_type": "stream",
     "text": [
      "Test Accuracy: 0.1800\n"
     ]
    }
   ],
   "source": [
    "# Evaluate model on test data\n",
    "y_pred = predict(X_test_scaled, weights, bias)\n",
    "accuracy = np.mean(y_pred == y_test)\n",
    "print(f\"Test Accuracy: {accuracy:.4f}\")"
   ]
  }
 ],
 "metadata": {
  "kernelspec": {
   "display_name": "venv",
   "language": "python",
   "name": "python3"
  },
  "language_info": {
   "codemirror_mode": {
    "name": "ipython",
    "version": 3
   },
   "file_extension": ".py",
   "mimetype": "text/x-python",
   "name": "python",
   "nbconvert_exporter": "python",
   "pygments_lexer": "ipython3",
   "version": "3.12.3"
  }
 },
 "nbformat": 4,
 "nbformat_minor": 5
}
