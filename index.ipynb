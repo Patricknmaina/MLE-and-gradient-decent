{
 "cells": [
  {
   "cell_type": "markdown",
   "metadata": {},
   "source": [
    "# Gradient Decent and MLE\n",
    "Logistic regression using gradient descent and maximum likelihood estimation (MLE)."
   ]
  },
  {
   "cell_type": "code",
   "execution_count": 329,
   "metadata": {},
   "outputs": [],
   "source": [
    "# imports \n",
    "import numpy as np\n",
    "import seaborn as sns\n",
    "import matplotlib.pyplot as plt \n",
    "from sklearn.datasets import make_classification\n",
    "from sklearn.model_selection import train_test_split\n",
    "from sklearn.preprocessing import StandardScaler"
   ]
  },
  {
   "cell_type": "markdown",
   "id": "126bc9ab",
   "metadata": {},
   "source": [
    "## Sigmoid Function"
   ]
  },
  {
   "cell_type": "markdown",
   "id": "840f73f9",
   "metadata": {},
   "source": [
    "The sigmoid function takes an input z (which can be any real number), and squashes it into the range (0,1)\n",
    "\n",
    "This is perfect for binary classification, where we want to interpret the output as the probability of class 1."
   ]
  },
  {
   "cell_type": "code",
   "execution_count": 330,
   "metadata": {},
   "outputs": [],
   "source": [
    "# Sigmoid function\n",
    "def sigmoid(z):\n",
    "    return 1 / (1 + np.exp(-z))"
   ]
  },
  {
   "cell_type": "code",
   "execution_count": 331,
   "id": "a2722912",
   "metadata": {},
   "outputs": [
    {
     "data": {
      "text/plain": [
       "np.float64(0.6899744811276125)"
      ]
     },
     "execution_count": 331,
     "metadata": {},
     "output_type": "execute_result"
    }
   ],
   "source": [
    "sigmoid(0.8)"
   ]
  },
  {
   "cell_type": "code",
   "execution_count": 332,
   "id": "e2af98b4",
   "metadata": {},
   "outputs": [
    {
     "data": {
      "text/plain": [
       "array([-10.        ,  -9.7979798 ,  -9.5959596 ,  -9.39393939,\n",
       "        -9.19191919,  -8.98989899,  -8.78787879,  -8.58585859,\n",
       "        -8.38383838,  -8.18181818,  -7.97979798,  -7.77777778,\n",
       "        -7.57575758,  -7.37373737,  -7.17171717,  -6.96969697,\n",
       "        -6.76767677,  -6.56565657,  -6.36363636,  -6.16161616,\n",
       "        -5.95959596,  -5.75757576,  -5.55555556,  -5.35353535,\n",
       "        -5.15151515,  -4.94949495,  -4.74747475,  -4.54545455,\n",
       "        -4.34343434,  -4.14141414,  -3.93939394,  -3.73737374,\n",
       "        -3.53535354,  -3.33333333,  -3.13131313,  -2.92929293,\n",
       "        -2.72727273,  -2.52525253,  -2.32323232,  -2.12121212,\n",
       "        -1.91919192,  -1.71717172,  -1.51515152,  -1.31313131,\n",
       "        -1.11111111,  -0.90909091,  -0.70707071,  -0.50505051,\n",
       "        -0.3030303 ,  -0.1010101 ,   0.1010101 ,   0.3030303 ,\n",
       "         0.50505051,   0.70707071,   0.90909091,   1.11111111,\n",
       "         1.31313131,   1.51515152,   1.71717172,   1.91919192,\n",
       "         2.12121212,   2.32323232,   2.52525253,   2.72727273,\n",
       "         2.92929293,   3.13131313,   3.33333333,   3.53535354,\n",
       "         3.73737374,   3.93939394,   4.14141414,   4.34343434,\n",
       "         4.54545455,   4.74747475,   4.94949495,   5.15151515,\n",
       "         5.35353535,   5.55555556,   5.75757576,   5.95959596,\n",
       "         6.16161616,   6.36363636,   6.56565657,   6.76767677,\n",
       "         6.96969697,   7.17171717,   7.37373737,   7.57575758,\n",
       "         7.77777778,   7.97979798,   8.18181818,   8.38383838,\n",
       "         8.58585859,   8.78787879,   8.98989899,   9.19191919,\n",
       "         9.39393939,   9.5959596 ,   9.7979798 ,  10.        ])"
      ]
     },
     "execution_count": 332,
     "metadata": {},
     "output_type": "execute_result"
    }
   ],
   "source": [
    "# example\n",
    "# Generate input values\n",
    "z = np.linspace(-10, 10, 100)\n",
    "z"
   ]
  },
  {
   "cell_type": "code",
   "execution_count": 333,
   "id": "4c4b6803",
   "metadata": {},
   "outputs": [
    {
     "data": {
      "text/plain": [
       "array([4.53978687e-05, 5.55606489e-05, 6.79983174e-05, 8.32200197e-05,\n",
       "       1.01848815e-04, 1.24647146e-04, 1.52547986e-04, 1.86692945e-04,\n",
       "       2.28478855e-04, 2.79614739e-04, 3.42191434e-04, 4.18766684e-04,\n",
       "       5.12469082e-04, 6.27124987e-04, 7.67413430e-04, 9.39055039e-04,\n",
       "       1.14904229e-03, 1.40591988e-03, 1.72012560e-03, 2.10440443e-03,\n",
       "       2.57431039e-03, 3.14881358e-03, 3.85103236e-03, 4.70911357e-03,\n",
       "       5.75728612e-03, 7.03711536e-03, 8.59898661e-03, 1.05038445e-02,\n",
       "       1.28252101e-02, 1.56514861e-02, 1.90885420e-02, 2.32625358e-02,\n",
       "       2.83228820e-02, 3.44451957e-02, 4.18339400e-02, 5.07243606e-02,\n",
       "       6.13831074e-02, 7.41067363e-02, 8.92170603e-02, 1.07052146e-01,\n",
       "       1.27951705e-01, 1.52235823e-01, 1.80176593e-01, 2.11963334e-01,\n",
       "       2.47663801e-01, 2.87185901e-01, 3.30246430e-01, 3.76354517e-01,\n",
       "       4.24816868e-01, 4.74768924e-01, 5.25231076e-01, 5.75183132e-01,\n",
       "       6.23645483e-01, 6.69753570e-01, 7.12814099e-01, 7.52336199e-01,\n",
       "       7.88036666e-01, 8.19823407e-01, 8.47764177e-01, 8.72048295e-01,\n",
       "       8.92947854e-01, 9.10782940e-01, 9.25893264e-01, 9.38616893e-01,\n",
       "       9.49275639e-01, 9.58166060e-01, 9.65554804e-01, 9.71677118e-01,\n",
       "       9.76737464e-01, 9.80911458e-01, 9.84348514e-01, 9.87174790e-01,\n",
       "       9.89496155e-01, 9.91401013e-01, 9.92962885e-01, 9.94242714e-01,\n",
       "       9.95290886e-01, 9.96148968e-01, 9.96851186e-01, 9.97425690e-01,\n",
       "       9.97895596e-01, 9.98279874e-01, 9.98594080e-01, 9.98850958e-01,\n",
       "       9.99060945e-01, 9.99232587e-01, 9.99372875e-01, 9.99487531e-01,\n",
       "       9.99581233e-01, 9.99657809e-01, 9.99720385e-01, 9.99771521e-01,\n",
       "       9.99813307e-01, 9.99847452e-01, 9.99875353e-01, 9.99898151e-01,\n",
       "       9.99916780e-01, 9.99932002e-01, 9.99944439e-01, 9.99954602e-01])"
      ]
     },
     "execution_count": 333,
     "metadata": {},
     "output_type": "execute_result"
    }
   ],
   "source": [
    "# get sigmoid outputs \n",
    "sig = sigmoid(z)\n",
    "sig"
   ]
  },
  {
   "cell_type": "code",
   "execution_count": 334,
   "id": "d8a1fff7",
   "metadata": {},
   "outputs": [
    {
     "data": {
      "text/plain": [
       "<Axes: >"
      ]
     },
     "execution_count": 334,
     "metadata": {},
     "output_type": "execute_result"
    },
    {
     "data": {
      "image/png": "[encoded data removed]",
      "text/plain": [
       "<Figure size 640x480 with 1 Axes>"
      ]
     },
     "metadata": {},
     "output_type": "display_data"
    }
   ],
   "source": [
    "# line plot\n",
    "sns.lineplot(sig)"
   ]
  },
  {
   "cell_type": "markdown",
   "id": "5ebc41ab",
   "metadata": {},
   "source": [
    "## Binary Cross-Entropy (Negative Log-Likelihood) Loss Function\n",
    "\n",
    "This loss function is used in **binary classification** to measure how well the predicted probabilities match the actual labels.\n"
   ]
  },
  {
   "cell_type": "code",
   "execution_count": 335,
   "metadata": {},
   "outputs": [],
   "source": [
    "# Loss function: Negative log-likelihood (binary cross-entropy)\n",
    "def compute_loss(y, y_pred):\n",
    "    y_pred = np.clip(y_pred, 1e-10, 1 - 1e-10)  # avoid log(0)\n",
    "    return -np.mean(y * np.log(y_pred) + (1 - y) * np.log(1 - y_pred))"
   ]
  },
  {
   "cell_type": "markdown",
   "id": "7910eb73",
   "metadata": {},
   "source": [
    "# Gradient Descent in Logistic Regression\n",
    "\n",
    "Gradient Descent is an optimization algorithm used to **minimize a loss function** by iteratively updating model parameters (weights and bias) in the direction that reduces the loss.\n",
    "\n",
    "---\n",
    "\n",
    "## The Goal\n",
    "\n",
    "We want to find parameters **w** and **b** that minimize the loss (e.g., binary cross-entropy):\n",
    "\n",
    "$$\n",
    "J(\\mathbf{w}, b) = -\\frac{1}{n} \\sum_{i=1}^{n} \\left[ y_i \\log(\\hat{y}_i) + (1 - y_i) \\log(1 - \\hat{y}_i) \\right]\n",
    "$$\n",
    "\n",
    "Where:\n",
    "\n",
    "- $\\hat{y}_i = \\sigma(\\mathbf{w}^T \\mathbf{x}_i + b)$\n",
    "- $\\sigma$ is the sigmoid function\n",
    "\n",
    "---\n",
    "\n",
    "## How It Works\n",
    "\n",
    "Each iteration of gradient descent updates the weights and bias as:\n",
    "\n",
    "$$\n",
    "\\mathbf{w} \\leftarrow \\mathbf{w} - \\alpha \\cdot \\frac{\\partial J}{\\partial \\mathbf{w}}\n",
    "$$\n",
    "\n",
    "$$\n",
    "b \\leftarrow b - \\alpha \\cdot \\frac{\\partial J}{\\partial b}\n",
    "$$\n",
    "\n",
    "Where:\n",
    "\n",
    "- $\\alpha$ is the **learning rate**\n",
    "- $\\frac{\\partial J}{\\partial \\mathbf{w}}$, $\\frac{\\partial J}{\\partial b}$ are the gradients\n"
   ]
  },
  {
   "cell_type": "code",
   "execution_count": 336,
   "id": "fcfcf600",
   "metadata": {},
   "outputs": [
    {
     "data": {
      "text/plain": [
       "array([0., 0., 0., 0.])"
      ]
     },
     "execution_count": 336,
     "metadata": {},
     "output_type": "execute_result"
    }
   ],
   "source": [
    "np.zeros(4)"
   ]
  },
  {
   "cell_type": "code",
   "execution_count": 337,
   "metadata": {},
   "outputs": [],
   "source": [
    "# Gradient descent-based logistic regression\n",
    "def logistic_regression(X, y, learning_rate=0.1, n_iterations=100):\n",
    "    \n",
    "    n_samples, n_features = X.shape\n",
    "    weights = np.zeros(n_features)\n",
    "    bias = 0\n",
    "    losses = []\n",
    "    weights_history = []\n",
    "\n",
    "    for i in range(n_iterations):\n",
    "        \n",
    "        \n",
    "        z = np.dot(X, weights) + bias\n",
    "        \n",
    "        print(\"Z\",z)\n",
    "        \n",
    "        y_pred = sigmoid(z)\n",
    "        error = y_pred - y\n",
    "        # print(f\"iteration {i}\")\n",
    "        # print(\"Errors\",error)\n",
    "        # print(\"weights\",weights)\n",
    "        # print(\"Bias\",bias)\n",
    "        \n",
    "        \n",
    "        dw = np.dot(X.T, error) / n_samples\n",
    "        db = np.sum(error) / n_samples\n",
    "        \n",
    "        \n",
    "        weights -= learning_rate * dw\n",
    "        bias -= learning_rate * db\n",
    "    \n",
    "        loss = compute_loss(y, y_pred)\n",
    "        \n",
    "        losses.append(loss)\n",
    "        weights_history.append(weights.copy())\n",
    "        \n",
    "        if i % 10 == 0:\n",
    "            loss = compute_loss(y, y_pred)\n",
    "            print(f\"Iteration {i}, Loss: {loss:.4f}\")\n",
    "            print(weights)\n",
    "            print(bias)\n",
    "            \n",
    "    return weights, bias,losses,weights_history"
   ]
  },
  {
   "cell_type": "markdown",
   "id": "565b3124",
   "metadata": {},
   "source": [
    "## Prediction Function in Logistic Regression\n",
    "\n",
    "The `predict` function uses the learned weights and bias to make binary classification decisions based on the logistic regression model.\n",
    "\n",
    "---\n",
    "\n",
    "### How It Works:\n",
    "\n",
    "1. **Linear Combination**:\n",
    "\n",
    "$$\n",
    "z = \\mathbf{X} \\cdot \\mathbf{w} + b\n",
    "$$\n",
    "\n",
    "2. **Sigmoid Activation** (Probability of class 1):\n",
    "\n",
    "$$\n",
    "\\hat{y} = \\sigma(z) = \\frac{1}{1 + e^{-z}}\n",
    "$$\n",
    "\n",
    "3. **Thresholding** (Classification Rule):\n",
    "\n",
    "$$\n",
    "\\text{prediction} =\n",
    "\\begin{cases}\n",
    "1 & \\text{if } \\hat{y} \\geq 0.5 \\\\\n",
    "0 & \\text{otherwise}\n",
    "\\end{cases}\n",
    "$$"
   ]
  },
  {
   "cell_type": "code",
   "execution_count": 338,
   "metadata": {},
   "outputs": [],
   "source": [
    "# Predict function\n",
    "def predict(X, weights, bias, threshold=0.5):\n",
    "    probs = sigmoid(np.dot(X, weights) + bias)\n",
    "    return (probs >= threshold).astype(int)"
   ]
  },
  {
   "cell_type": "markdown",
   "metadata": {},
   "source": [
    "## Example: Using Synthetic Data"
   ]
  },
  {
   "cell_type": "code",
   "execution_count": 339,
   "metadata": {},
   "outputs": [
    {
     "data": {
      "text/plain": [
       "array([[-1.60771127, -0.02939755,  1.56995261, -0.52798442],\n",
       "       [ 0.29013139,  0.31768126, -0.99651948,  0.47700945],\n",
       "       [-1.22509603,  0.89591149, -0.90032416,  0.71986083],\n",
       "       ...,\n",
       "       [ 0.71079614, -0.61221203,  0.73334515, -0.53058391],\n",
       "       [ 2.0298423 , -0.41670519, -0.94602592,  0.11203889],\n",
       "       [-1.30152166,  1.56725458, -2.36166236,  1.5168608 ]],\n",
       "      shape=(1000, 4))"
      ]
     },
     "execution_count": 339,
     "metadata": {},
     "output_type": "execute_result"
    }
   ],
   "source": [
    "# Generate binary classification dataset\n",
    "X, y = make_classification(n_samples=1000, n_features=4, n_classes=2, random_state=42)\n",
    "X"
   ]
  },
  {
   "cell_type": "code",
   "execution_count": 340,
   "id": "c87afc0e",
   "metadata": {},
   "outputs": [],
   "source": [
    "X_train, X_test, y_train, y_test = train_test_split(X, y, test_size=0.2, random_state=42)\n"
   ]
  },
  {
   "cell_type": "code",
   "execution_count": 341,
   "id": "0638eea9",
   "metadata": {},
   "outputs": [],
   "source": [
    "# Standardize features\n",
    "scaler = StandardScaler()\n",
    "X_train_scaled = scaler.fit_transform(X_train)\n",
    "X_test_scaled = scaler.transform(X_test)"
   ]
  },
  {
   "cell_type": "code",
   "execution_count": 342,
   "metadata": {},
   "outputs": [
    {
     "name": "stdout",
     "output_type": "stream",
     "text": [
      "Z [0. 0. 0. 0. 0. 0. 0. 0. 0. 0. 0. 0. 0. 0. 0. 0. 0. 0. 0. 0. 0. 0. 0. 0.\n",
      " 0. 0. 0. 0. 0. 0. 0. 0. 0. 0. 0. 0. 0. 0. 0. 0. 0. 0. 0. 0. 0. 0. 0. 0.\n",
      " 0. 0. 0. 0. 0. 0. 0. 0. 0. 0. 0. 0. 0. 0. 0. 0. 0. 0. 0. 0. 0. 0. 0. 0.\n",
      " 0. 0. 0. 0. 0. 0. 0. 0. 0. 0. 0. 0. 0. 0. 0. 0. 0. 0. 0. 0. 0. 0. 0. 0.\n",
      " 0. 0. 0. 0. 0. 0. 0. 0. 0. 0. 0. 0. 0. 0. 0. 0. 0. 0. 0. 0. 0. 0. 0. 0.\n",
      " 0. 0. 0. 0. 0. 0. 0. 0. 0. 0. 0. 0. 0. 0. 0. 0. 0. 0. 0. 0. 0. 0. 0. 0.\n",
      " 0. 0. 0. 0. 0. 0. 0. 0. 0. 0. 0. 0. 0. 0. 0. 0. 0. 0. 0. 0. 0. 0. 0. 0.\n",
      " 0. 0. 0. 0. 0. 0. 0. 0. 0. 0. 0. 0. 0. 0. 0. 0. 0. 0. 0. 0. 0. 0. 0. 0.\n",
      " 0. 0. 0. 0. 0. 0. 0. 0. 0. 0. 0. 0. 0. 0. 0. 0. 0. 0. 0. 0. 0. 0. 0. 0.\n",
      " 0. 0. 0. 0. 0. 0. 0. 0. 0. 0. 0. 0. 0. 0. 0. 0. 0. 0. 0. 0. 0. 0. 0. 0.\n",
      " 0. 0. 0. 0. 0. 0. 0. 0. 0. 0. 0. 0. 0. 0. 0. 0. 0. 0. 0. 0. 0. 0. 0. 0.\n",
      " 0. 0. 0. 0. 0. 0. 0. 0. 0. 0. 0. 0. 0. 0. 0. 0. 0. 0. 0. 0. 0. 0. 0. 0.\n",
      " 0. 0. 0. 0. 0. 0. 0. 0. 0. 0. 0. 0. 0. 0. 0. 0. 0. 0. 0. 0. 0. 0. 0. 0.\n",
      " 0. 0. 0. 0. 0. 0. 0. 0. 0. 0. 0. 0. 0. 0. 0. 0. 0. 0. 0. 0. 0. 0. 0. 0.\n",
      " 0. 0. 0. 0. 0. 0. 0. 0. 0. 0. 0. 0. 0. 0. 0. 0. 0. 0. 0. 0. 0. 0. 0. 0.\n",
      " 0. 0. 0. 0. 0. 0. 0. 0. 0. 0. 0. 0. 0. 0. 0. 0. 0. 0. 0. 0. 0. 0. 0. 0.\n",
      " 0. 0. 0. 0. 0. 0. 0. 0. 0. 0. 0. 0. 0. 0. 0. 0. 0. 0. 0. 0. 0. 0. 0. 0.\n",
      " 0. 0. 0. 0. 0. 0. 0. 0. 0. 0. 0. 0. 0. 0. 0. 0. 0. 0. 0. 0. 0. 0. 0. 0.\n",
      " 0. 0. 0. 0. 0. 0. 0. 0. 0. 0. 0. 0. 0. 0. 0. 0. 0. 0. 0. 0. 0. 0. 0. 0.\n",
      " 0. 0. 0. 0. 0. 0. 0. 0. 0. 0. 0. 0. 0. 0. 0. 0. 0. 0. 0. 0. 0. 0. 0. 0.\n",
      " 0. 0. 0. 0. 0. 0. 0. 0. 0. 0. 0. 0. 0. 0. 0. 0. 0. 0. 0. 0. 0. 0. 0. 0.\n",
      " 0. 0. 0. 0. 0. 0. 0. 0. 0. 0. 0. 0. 0. 0. 0. 0. 0. 0. 0. 0. 0. 0. 0. 0.\n",
      " 0. 0. 0. 0. 0. 0. 0. 0. 0. 0. 0. 0. 0. 0. 0. 0. 0. 0. 0. 0. 0. 0. 0. 0.\n",
      " 0. 0. 0. 0. 0. 0. 0. 0. 0. 0. 0. 0. 0. 0. 0. 0. 0. 0. 0. 0. 0. 0. 0. 0.\n",
      " 0. 0. 0. 0. 0. 0. 0. 0. 0. 0. 0. 0. 0. 0. 0. 0. 0. 0. 0. 0. 0. 0. 0. 0.\n",
      " 0. 0. 0. 0. 0. 0. 0. 0. 0. 0. 0. 0. 0. 0. 0. 0. 0. 0. 0. 0. 0. 0. 0. 0.\n",
      " 0. 0. 0. 0. 0. 0. 0. 0. 0. 0. 0. 0. 0. 0. 0. 0. 0. 0. 0. 0. 0. 0. 0. 0.\n",
      " 0. 0. 0. 0. 0. 0. 0. 0. 0. 0. 0. 0. 0. 0. 0. 0. 0. 0. 0. 0. 0. 0. 0. 0.\n",
      " 0. 0. 0. 0. 0. 0. 0. 0. 0. 0. 0. 0. 0. 0. 0. 0. 0. 0. 0. 0. 0. 0. 0. 0.\n",
      " 0. 0. 0. 0. 0. 0. 0. 0. 0. 0. 0. 0. 0. 0. 0. 0. 0. 0. 0. 0. 0. 0. 0. 0.\n",
      " 0. 0. 0. 0. 0. 0. 0. 0. 0. 0. 0. 0. 0. 0. 0. 0. 0. 0. 0. 0. 0. 0. 0. 0.\n",
      " 0. 0. 0. 0. 0. 0. 0. 0. 0. 0. 0. 0. 0. 0. 0. 0. 0. 0. 0. 0. 0. 0. 0. 0.\n",
      " 0. 0. 0. 0. 0. 0. 0. 0. 0. 0. 0. 0. 0. 0. 0. 0. 0. 0. 0. 0. 0. 0. 0. 0.\n",
      " 0. 0. 0. 0. 0. 0. 0. 0.]\n",
      "Iteration 0, Loss: 0.6931\n",
      "[ 0.00093677 -0.02524633  0.03465672 -0.03195164]\n",
      "0.000375\n",
      "Z [-2.48134388e-02  1.42453673e-01  1.11238386e-01  1.11689973e-01\n",
      " -1.43685046e-01 -6.46328068e-02 -2.66394803e-02  1.29130138e-01\n",
      "  1.33026605e-01 -1.54452666e-01 -4.58976660e-02  1.23147729e-01\n",
      "  1.05513813e-02  6.43173064e-02 -1.45226548e-01 -3.07460597e-02\n",
      "  2.89689331e-02 -5.46763426e-02  8.91809908e-02 -6.58668883e-02\n",
      " -6.88831264e-02 -1.31350538e-01 -4.83850023e-02  9.34267927e-02\n",
      "  1.29161764e-01 -7.56265843e-02 -6.31999917e-02  5.04361848e-02\n",
      " -9.31349065e-02 -6.46842986e-02  1.06239841e-01 -5.99440944e-02\n",
      " -7.13011624e-02 -5.63508255e-02 -4.60964106e-02  4.02930113e-02\n",
      " -4.58666713e-02 -3.54723105e-02  3.55028938e-02 -1.84199414e-01\n",
      "  1.55613988e-01 -6.43934593e-02  8.63745894e-02  3.27175287e-02\n",
      "  7.32631480e-02 -2.57859618e-02 -6.37163324e-03 -4.10591269e-04\n",
      " -1.15957217e-01  2.27679733e-01  1.46077609e-01  4.99635874e-02\n",
      " -3.39346473e-02 -8.19589261e-02 -6.73466563e-02 -1.39628812e-01\n",
      " -4.33013068e-02  2.02988846e-01  1.11530021e-01  7.26986995e-02\n",
      "  4.53845011e-02 -3.00065345e-02  1.17871436e-01  4.02108898e-03\n",
      " -5.03256896e-02  7.45280916e-02 -5.93744110e-02 -3.17449861e-02\n",
      " -1.67317964e-01 -6.95607650e-02 -8.35813347e-02 -3.82629764e-02\n",
      "  3.99468784e-02  4.75753827e-02  7.45564758e-02  4.77267364e-02\n",
      " -1.01021747e-01 -3.24752369e-02 -6.45833631e-02 -6.28788274e-02\n",
      "  1.04601101e-01 -3.81961484e-03  1.62376992e-02  6.56174495e-02\n",
      "  3.02184964e-01 -3.77937644e-02  1.62279066e-01  1.74244679e-02\n",
      "  8.52273339e-03  1.87369863e-02  1.75849581e-01 -1.25180522e-01\n",
      " -1.76264402e-02 -3.41013172e-02 -5.57636246e-02 -2.71668831e-02\n",
      "  1.06533998e-01 -1.39379969e-02  1.09182095e-02 -6.38035202e-02\n",
      "  4.34127172e-02 -2.45550157e-03 -2.04222506e-02 -6.98627358e-03\n",
      " -5.28847216e-02 -8.89365573e-02  1.09312215e-01 -6.50675401e-02\n",
      "  1.24631796e-01 -4.30448250e-02 -1.74010799e-03 -6.83145382e-02\n",
      "  1.43863207e-02 -9.37788080e-02  1.84603867e-01 -7.23898901e-02\n",
      " -2.68069977e-02 -5.55515882e-02 -7.92960937e-02 -5.33268742e-02\n",
      " -9.20355148e-02  1.23216998e-01 -5.36032227e-02 -5.63869247e-02\n",
      " -7.23688865e-02  3.53067629e-02  1.10386377e-01 -3.14922219e-02\n",
      "  2.03612059e-01 -1.90200454e-01 -3.18304729e-02 -2.41993233e-02\n",
      "  4.05052652e-02  7.31479859e-02  6.08808538e-02  8.03152028e-02\n",
      "  1.23515076e-01  6.83364743e-02 -3.83102894e-02 -1.13425247e-01\n",
      "  8.36261329e-02  4.28139614e-02 -6.33135960e-02  1.38979958e-01\n",
      "  4.23234386e-02  1.39324251e-01 -1.93905466e-01 -6.43864218e-02\n",
      "  2.27337923e-02 -5.10242320e-02 -2.43092354e-02 -1.70398657e-02\n",
      " -1.48755117e-01 -8.14913529e-02 -3.64995007e-02 -1.68545160e-02\n",
      " -4.09142964e-02 -4.00119442e-02 -2.05858220e-03 -7.03039047e-02\n",
      " -2.94122626e-02  6.99149466e-03  4.74538559e-02 -9.89553035e-02\n",
      "  1.24680894e-01 -1.97933177e-02  2.07520830e-02 -3.34359761e-02\n",
      "  7.91986270e-02  7.14853734e-02  7.13276656e-02 -1.09385215e-01\n",
      " -2.33397197e-02  2.49555231e-02  9.60172788e-02 -1.45931933e-02\n",
      " -4.82742872e-02  1.20842185e-01  1.37623198e-01 -3.21422467e-03\n",
      " -1.16919505e-01 -1.98091555e-02  8.88141501e-02  2.45513660e-02\n",
      " -2.29331362e-02 -1.15342200e-01 -2.17594219e-02  1.36193620e-02\n",
      "  1.11496138e-01 -1.26291808e-02  1.82713489e-01 -7.13023970e-02\n",
      " -8.73379533e-04  2.18789199e-02  1.06060891e-01  7.51543484e-02\n",
      " -2.85732989e-03 -5.23620558e-02 -3.51195784e-02  5.90166765e-02\n",
      " -5.92813126e-02  3.59417147e-03 -1.01532734e-01  5.98017797e-03\n",
      " -2.90358872e-02 -2.29683940e-02  1.72241433e-01  1.83462643e-01\n",
      "  9.61724069e-02  3.99517645e-02  1.14892443e-01  1.62273761e-02\n",
      "  6.05868006e-02  1.31455416e-01 -5.67758202e-02  2.53998424e-02\n",
      " -6.67580833e-02  2.43471627e-02 -1.53615477e-01  1.12107590e-01\n",
      "  1.28954806e-02 -1.40219333e-01  7.56053247e-02 -8.94954225e-03\n",
      " -2.02918619e-01  2.68094695e-02  1.59171400e-01  9.76526386e-02\n",
      "  4.73362409e-02 -4.59650130e-02  9.97487143e-02 -1.60113286e-02\n",
      " -3.46785585e-02  1.13550797e-01 -5.71957563e-02  2.78241698e-02\n",
      " -5.14500603e-02  2.95820949e-02  1.13002075e-01 -3.30708588e-02\n",
      "  5.67875450e-02 -1.17208456e-01  9.04787154e-02 -4.83784119e-02\n",
      "  2.02326321e-01  3.17375220e-02  8.92224269e-02  5.23507398e-02\n",
      " -3.98740338e-03  2.77914623e-02 -3.71832056e-03 -1.82699946e-02\n",
      "  2.11297196e-03  1.70859978e-01  9.42815905e-02 -2.03533045e-02\n",
      " -8.37006999e-02 -3.07518608e-02 -2.41272151e-02  4.60559712e-02\n",
      " -8.46295533e-02  5.26974507e-02  1.47788063e-01  1.52439362e-01\n",
      " -1.43271314e-01 -8.70714471e-02  6.00394663e-02  1.62243420e-01\n",
      "  2.19806596e-03 -1.68391660e-02  2.03993609e-01 -7.68590419e-02\n",
      " -6.36027886e-02  8.27898155e-02 -2.43420280e-02 -2.79614756e-01\n",
      " -3.73320955e-02 -4.23451817e-02 -7.46770942e-02  1.33995131e-01\n",
      " -2.14219023e-01  8.64154048e-02  6.54494576e-03 -1.89952173e-02\n",
      " -7.95932053e-02 -9.62517230e-02  7.46125742e-02  2.38257173e-02\n",
      "  9.68062423e-02 -4.38353610e-02  1.25873105e-01 -1.05872908e-02\n",
      " -1.44585464e-01 -3.74147819e-02  9.39016286e-03  7.43934726e-02\n",
      " -5.47991130e-02 -3.12840964e-02  8.81772293e-02  1.30576971e-01\n",
      "  1.35744933e-01 -5.08159150e-02  1.02180072e-01 -6.45665947e-02\n",
      " -7.29755433e-02 -9.33021177e-03  1.33923885e-01  9.58683862e-02\n",
      " -6.65130508e-02  7.87336596e-02  1.15120986e-01 -5.41955644e-02\n",
      " -1.33841259e-01 -5.07831895e-02  1.02462816e-01 -6.95046906e-02\n",
      " -7.71482616e-02  4.56765921e-02  1.99308459e-02  2.75819239e-02\n",
      "  6.24236114e-04  5.59091646e-03 -4.46763755e-02 -5.96639156e-02\n",
      " -7.41840947e-02  1.24815637e-01  7.62154379e-02 -7.94049119e-02\n",
      " -5.50616255e-02 -9.23391820e-03 -9.80226422e-02 -1.06471338e-01\n",
      "  4.74017383e-03  1.23516533e-01 -7.45313811e-02 -8.62003338e-02\n",
      "  9.16999327e-02 -1.55612525e-01  5.65181671e-02 -1.23369520e-03\n",
      " -3.81401898e-02 -1.71188338e-02 -8.39714787e-02  2.28221851e-01\n",
      "  4.07455247e-02  8.57570835e-02  5.71410508e-03 -5.70079189e-02\n",
      "  6.17620927e-02 -2.41558884e-02  1.59217933e-01  8.59800288e-02\n",
      " -2.02870732e-02 -1.48705955e-02 -7.91324821e-02  2.06001753e-01\n",
      " -5.02056506e-02 -6.62075255e-02 -8.09904305e-02 -6.86173406e-02\n",
      "  1.68165687e-01 -1.62516833e-01 -1.06184027e-01 -3.63862203e-02\n",
      " -5.50075780e-02  8.15481230e-02 -4.72645822e-02 -6.41699378e-02\n",
      "  4.73376796e-02 -1.54570049e-01 -6.63904266e-02  4.56069621e-02\n",
      " -8.85995599e-02 -3.35799013e-02 -1.37219745e-02  1.15720283e-01\n",
      " -1.12635731e-02 -1.84069547e-02 -1.92522670e-02 -6.83704941e-02\n",
      "  4.67594902e-02 -5.63825057e-02  5.53269065e-02 -1.31424025e-01\n",
      "  1.46595203e-01 -1.27561425e-02  1.35291506e-01 -3.42136721e-02\n",
      "  1.70914843e-02 -6.60572500e-02  9.26989602e-02  2.89361279e-02\n",
      "  1.12801028e-01  7.99339113e-02 -2.39633325e-02  8.34094014e-02\n",
      "  5.54483241e-02  1.76389025e-01  6.27738776e-02  1.05175409e-01\n",
      " -6.33818893e-02 -2.10437741e-01 -4.32643593e-02  1.45917007e-01\n",
      "  3.43421019e-02  8.44415502e-02  9.28623457e-02 -3.76391754e-02\n",
      "  1.56228300e-01 -9.92134695e-02 -4.12184810e-02  1.17748764e-02\n",
      " -3.41965925e-02  6.90218345e-02  5.35876254e-02  8.67839350e-02\n",
      "  1.17656503e-01 -3.26797129e-02 -4.91976467e-02 -6.09928430e-02\n",
      " -1.59330502e-02 -9.00451808e-02 -5.18040783e-02  1.20832368e-03\n",
      " -1.82600442e-01  9.44209025e-02 -1.41744774e-02  1.81519143e-01\n",
      "  1.20561167e-02 -1.49438562e-02 -1.91236064e-02  7.72675037e-02\n",
      "  1.27949246e-01 -3.57720654e-02 -2.19632490e-02 -1.12855397e-01\n",
      " -1.49058253e-01  2.38176380e-02 -1.40996155e-01 -8.48018131e-02\n",
      "  2.48024443e-02 -2.11195795e-02  1.43544417e-01  6.72783647e-02\n",
      " -1.24709370e-01 -5.97152376e-02  3.41540057e-03 -6.37598939e-02\n",
      " -1.52761896e-01  9.53261749e-02 -1.53608822e-02 -4.33038337e-02\n",
      " -9.89001056e-02 -4.35150362e-02 -1.76762752e-02  1.26233644e-01\n",
      " -6.00781686e-02  5.73236624e-02 -1.04097074e-02  7.09973561e-02\n",
      " -1.47094369e-02  6.58815603e-02  4.08453914e-02 -2.59626309e-02\n",
      " -1.93821383e-02 -8.05995026e-03 -5.77179067e-02 -8.03624853e-03\n",
      " -2.16110796e-02 -1.96866718e-02  1.84144752e-01  1.39374983e-01\n",
      "  3.46487413e-02 -5.87752182e-02  1.11826025e-01 -3.44714884e-02\n",
      " -1.34473843e-01 -7.17450284e-03  4.07074956e-03 -2.08044399e-02\n",
      " -3.92527972e-02 -5.26414411e-02 -1.50630337e-01 -3.02275118e-01\n",
      "  1.40695695e-01  7.29973227e-02 -4.21376751e-02  1.02047887e-01\n",
      " -3.21399339e-02  2.74403589e-02  1.94583471e-01  3.08210615e-02\n",
      " -1.97208051e-02  1.43173290e-02 -2.25897120e-02 -2.07178021e-01\n",
      " -1.77889948e-01 -9.16762311e-02 -2.02734266e-01  9.66843591e-02\n",
      "  2.48137626e-02  2.08760123e-02 -6.16932854e-02  4.37343094e-02\n",
      "  8.27172103e-02  5.85603071e-02 -3.76227040e-02 -1.09962084e-01\n",
      " -2.52809804e-02 -5.76459725e-02  3.07120446e-02 -5.31510718e-02\n",
      " -1.36747596e-01  6.25482332e-03 -5.72366194e-02 -1.14061914e-02\n",
      " -3.92247505e-02 -9.23836626e-02  2.33836554e-01 -9.33875599e-04\n",
      "  4.87300985e-02  1.77364717e-02  9.97291371e-02 -8.33368346e-02\n",
      " -2.19455574e-01 -1.73341269e-02 -3.11936417e-02  5.97958636e-02\n",
      "  1.40067467e-01 -2.48047632e-02  4.12109372e-02  4.98904394e-02\n",
      " -2.76351210e-02  1.62145050e-02  5.25852850e-03 -4.07926182e-02\n",
      "  9.07064191e-02  2.40712663e-01  6.42171296e-02 -1.56672195e-01\n",
      " -1.81048329e-01  2.57090611e-02 -1.95357941e-02  5.32452122e-02\n",
      "  6.72493945e-02  4.70316149e-02  9.22628742e-02  7.84839870e-02\n",
      " -4.73220078e-02  1.32925973e-02 -2.99528494e-02  2.23170853e-02\n",
      " -3.05265230e-02 -6.05977799e-02  5.17004405e-02  1.68310097e-01\n",
      " -5.28512168e-02 -1.30640378e-01  7.08578797e-02 -4.97522279e-02\n",
      " -3.35838849e-02  6.04132025e-02  6.06029256e-02 -5.29602797e-02\n",
      " -1.43574646e-01 -8.44930240e-02  8.56845735e-02  1.16604061e-01\n",
      " -5.30469526e-02  9.60674898e-02 -8.97374782e-02  1.02825680e-04\n",
      " -2.25394151e-02 -1.29561921e-02 -2.26320959e-01 -4.57453810e-02\n",
      " -9.02775331e-02 -3.79349558e-02  1.53266024e-01 -5.50499269e-02\n",
      "  4.60388981e-02 -9.27306520e-02  1.46115486e-01 -7.45027957e-02\n",
      "  2.00050295e-01  6.31116482e-02 -2.51317319e-04  4.87258092e-03\n",
      " -1.45055524e-01  2.46450084e-02 -2.70504808e-02 -2.99623285e-02\n",
      "  6.48732490e-02  5.30005850e-02  2.39521825e-02  1.75562437e-02\n",
      " -1.32655772e-01 -3.48225188e-02 -5.22846183e-02 -1.17791459e-02\n",
      "  1.28082864e-01  5.79865919e-02  4.43927137e-02  9.58521287e-02\n",
      "  8.59384814e-03 -3.51170684e-02 -1.36730002e-02 -5.61676240e-02\n",
      "  8.75694665e-02  2.06036649e-02 -2.02452950e-01 -1.52414443e-02\n",
      " -9.88521378e-02 -7.16987434e-03 -8.03950036e-02 -4.05202174e-02\n",
      " -6.48558323e-02  8.46707833e-02  4.62243654e-02 -6.21103512e-03\n",
      "  7.00257897e-02 -5.00894684e-02 -8.28447463e-02  1.44808958e-01\n",
      " -2.78121537e-02  4.64934002e-02  1.20515124e-01  2.07408850e-02\n",
      " -1.25934811e-01 -1.41718417e-01 -9.38757883e-02 -7.12675272e-03\n",
      "  7.84775382e-02 -2.56819650e-02 -2.24177325e-02  1.44439377e-02\n",
      "  2.02518464e-02 -1.49241544e-02  2.59851507e-03 -5.93392513e-02\n",
      " -5.88167237e-02  1.72156855e-02  4.51992264e-02 -4.34401319e-02\n",
      "  2.34620038e-02 -9.88935738e-02 -1.80771056e-01 -1.25284470e-01\n",
      " -2.67561474e-02  6.30417094e-02 -8.76693903e-02  1.40922687e-02\n",
      " -9.23014063e-02  2.18005825e-01 -2.17320525e-02 -4.34474622e-02\n",
      " -5.28187774e-04  4.63722766e-02 -5.39125340e-02  6.73826416e-04\n",
      "  5.01199317e-02  3.68956841e-02 -5.05420972e-03  9.01500976e-02\n",
      "  4.72451793e-02 -5.82068606e-02  5.56353968e-02  1.03395987e-01\n",
      "  1.89081656e-02 -2.46573812e-02  2.65615181e-02 -6.40851896e-02\n",
      "  1.01886027e-01  4.69673367e-02  5.37594622e-03  7.90948826e-02\n",
      "  1.44332242e-02 -8.00917722e-02  2.10031929e-01 -1.63780627e-01\n",
      "  8.14174315e-02  2.52441517e-02 -4.62299348e-02 -4.58280609e-02\n",
      "  1.68737165e-01  5.72513805e-03 -2.21789784e-01 -1.91063664e-01\n",
      "  1.21216766e-01 -8.94291181e-02 -1.40753088e-01 -5.81533184e-02\n",
      " -1.07335994e-01 -1.76046199e-03 -3.05263303e-02  1.39055789e-01\n",
      "  1.03116358e-01  1.83263138e-02 -2.06485533e-02 -9.76595545e-02\n",
      " -6.05572769e-02  1.29001186e-01 -1.69889996e-01 -7.30698891e-02\n",
      "  2.19448433e-01 -6.73341150e-02 -1.49051897e-01  5.14519518e-03\n",
      " -9.05330206e-02 -1.22722312e-01 -1.62423400e-01 -2.96025366e-02\n",
      "  8.90805057e-02 -5.93064228e-03 -7.15633676e-02 -5.05326235e-02\n",
      " -1.38043464e-02 -5.87262102e-02 -2.35926548e-02 -5.92260533e-02\n",
      "  3.83778201e-03  7.45440003e-02  1.85177710e-01  5.43031843e-02\n",
      "  3.95515622e-02  3.76381630e-02 -7.87790563e-02  9.21572050e-02\n",
      " -1.06737596e-01  4.40780053e-03 -1.28234565e-01 -5.18301119e-02\n",
      "  1.25300597e-01  2.67636397e-02 -4.34572840e-02 -1.40339927e-03\n",
      "  1.52692489e-01  1.57968764e-01  5.35486921e-02 -1.83055513e-02\n",
      " -5.20647464e-02  1.50901228e-01  5.64400564e-02  3.37012170e-02\n",
      " -5.73307636e-02  1.43963707e-02 -7.15802265e-03  1.30791648e-01\n",
      " -7.12599864e-02 -4.53425370e-02 -1.90687666e-01 -1.92237192e-01\n",
      " -3.10985644e-02  1.05057409e-01  2.37800505e-02  4.46852582e-02\n",
      "  2.17692574e-02 -4.22461007e-02 -1.31806909e-02  6.90476010e-04\n",
      " -3.66811746e-02 -8.13320836e-02  1.18257670e-01  2.07946380e-02\n",
      " -1.06309784e-01 -8.91159566e-03 -8.26617253e-02  8.88613361e-02\n",
      "  6.38668706e-02 -1.52542276e-01 -3.46909778e-02  7.35775005e-02\n",
      "  7.94678647e-02  5.77596755e-02 -8.11295790e-02 -1.87615133e-01\n",
      " -1.03360747e-01 -6.17624739e-02 -1.60596956e-02 -9.94278203e-02\n",
      " -9.07058739e-03  1.50237934e-01  1.01156184e-01 -7.69602153e-02\n",
      " -8.49315301e-02 -6.67753107e-02 -1.88599531e-01  2.03688750e-02\n",
      " -4.19994475e-02 -3.27421145e-02 -3.53882488e-02 -1.34291656e-02\n",
      "  1.60764096e-01  7.26983181e-02 -8.07523672e-03  1.92297480e-01\n",
      "  1.05484191e-02  3.46810232e-03  5.68836447e-02  1.05782916e-02]\n",
      "Z [-4.73863935e-02  2.73565239e-01  2.15551403e-01  2.14476367e-01\n",
      " -2.76472679e-01 -1.26104380e-01 -5.27373367e-02  2.48041741e-01\n",
      "  2.58989636e-01 -2.97354197e-01 -8.90788982e-02  2.36546460e-01\n",
      "  1.89124945e-02  1.23582432e-01 -2.79378580e-01 -5.95056669e-02\n",
      "  5.64356914e-02 -1.04854234e-01  1.71944516e-01 -1.28242300e-01\n",
      " -1.33580707e-01 -2.52640140e-01 -9.28274497e-02  1.79444154e-01\n",
      "  2.50827624e-01 -1.45075859e-01 -1.21275701e-01  9.76184833e-02\n",
      " -1.79804467e-01 -1.24826138e-01  2.04049054e-01 -1.16116280e-01\n",
      " -1.38157739e-01 -1.08143682e-01 -8.83870397e-02  7.82665252e-02\n",
      " -8.78064268e-02 -6.87018425e-02  6.88350397e-02 -3.54476167e-01\n",
      "  2.98821370e-01 -1.23519921e-01  1.65809492e-01  6.27351362e-02\n",
      "  1.42747527e-01 -4.95067105e-02 -1.33258546e-02 -2.56105475e-03\n",
      " -2.23097419e-01  4.37072584e-01  2.83307592e-01  9.60166528e-02\n",
      " -6.66149438e-02 -1.57443162e-01 -1.29087393e-01 -2.68493491e-01\n",
      " -8.29116064e-02  3.91656603e-01  2.14188873e-01  1.39926666e-01\n",
      "  8.79484288e-02 -5.77018367e-02  2.26286424e-01  8.33620904e-03\n",
      " -9.84083699e-02  1.43301746e-01 -1.13945205e-01 -6.18916156e-02\n",
      " -3.22068253e-01 -1.33398857e-01 -1.60775262e-01 -7.40259129e-02\n",
      "  7.77812548e-02  9.24650758e-02  1.43031386e-01  9.16724392e-02\n",
      " -1.94286979e-01 -6.48018714e-02 -1.24119084e-01 -1.22067612e-01\n",
      "  2.01315693e-01 -7.29344728e-03  2.95490831e-02  1.26759387e-01\n",
      "  5.80286886e-01 -7.25316973e-02  3.11573893e-01  3.51701516e-02\n",
      "  1.66221565e-02  3.67014642e-02  3.38976304e-01 -2.40924090e-01\n",
      " -3.34490680e-02 -6.67216530e-02 -1.06866273e-01 -5.34329912e-02\n",
      "  2.04627605e-01 -2.71061650e-02  2.17332116e-02 -1.21574904e-01\n",
      "  8.32217627e-02 -3.52028873e-03 -3.86999098e-02 -1.29491643e-02\n",
      " -1.03233146e-01 -1.70888215e-01  2.09918035e-01 -1.24925210e-01\n",
      "  2.39264473e-01 -8.25317997e-02 -3.40455751e-03 -1.31617605e-01\n",
      "  2.83530175e-02 -1.80309056e-01  3.55650432e-01 -1.39160591e-01\n",
      " -5.24637456e-02 -1.06455813e-01 -1.52283307e-01 -1.02209626e-01\n",
      " -1.77053441e-01  2.36815040e-01 -1.04351186e-01 -1.08238570e-01\n",
      " -1.39436147e-01  6.79556457e-02  2.13865698e-01 -6.04873771e-02\n",
      "  3.90961739e-01 -3.66097948e-01 -6.26142876e-02 -4.80974622e-02\n",
      "  7.85597736e-02  1.40471253e-01  1.18856514e-01  1.55523965e-01\n",
      "  2.39130723e-01  1.33018775e-01 -7.52422470e-02 -2.18053530e-01\n",
      "  1.60637920e-01  8.34768228e-02 -1.21585263e-01  2.68350688e-01\n",
      "  8.19148267e-02  2.67671521e-01 -3.73309605e-01 -1.24874329e-01\n",
      "  4.16098217e-02 -9.85073675e-02 -4.64314205e-02 -3.33988465e-02\n",
      " -2.85796722e-01 -1.57438323e-01 -7.14012044e-02 -3.20100320e-02\n",
      " -7.89750915e-02 -7.81168770e-02 -5.96097322e-03 -1.35056941e-01\n",
      " -5.63164240e-02  1.46654066e-02  9.16639123e-02 -1.90189303e-01\n",
      "  2.41160140e-01 -3.97106751e-02  3.80320079e-02 -6.41906050e-02\n",
      "  1.52064353e-01  1.37238505e-01  1.40127422e-01 -2.10435982e-01\n",
      " -4.44394428e-02  4.83613646e-02  1.85570968e-01 -2.91909451e-02\n",
      " -9.24946603e-02  2.32038509e-01  2.64336749e-01 -6.16404356e-03\n",
      " -2.24940464e-01 -3.80009189e-02  1.71127903e-01  4.71025159e-02\n",
      " -4.37707504e-02 -2.21866896e-01 -4.14196657e-02  2.67542367e-02\n",
      "  2.14995044e-01 -2.41476162e-02  3.50900099e-01 -1.37754686e-01\n",
      "  1.10254246e-04  4.27226892e-02  2.05513083e-01  1.44242054e-01\n",
      " -4.99295810e-03 -1.00858749e-01 -6.91499182e-02  1.13364816e-01\n",
      " -1.14610934e-01  6.70860092e-03 -1.95146642e-01  1.04676691e-02\n",
      " -5.66200074e-02 -4.40437801e-02  3.30839620e-01  3.52319493e-01\n",
      "  1.84734218e-01  7.79190447e-02  2.23139399e-01  3.10896979e-02\n",
      "  1.17874577e-01  2.52495958e-01 -1.08973219e-01  4.88998897e-02\n",
      " -1.28249468e-01  4.70458796e-02 -2.95591430e-01  2.15355006e-01\n",
      "  2.48855206e-02 -2.69607479e-01  1.45225710e-01 -1.73210285e-02\n",
      " -3.90683420e-01  5.32822360e-02  3.05613350e-01  1.87449297e-01\n",
      "  9.09173956e-02 -8.93630505e-02  1.91531864e-01 -3.27459566e-02\n",
      " -6.65536524e-02  2.18062751e-01 -1.10746156e-01  5.48300840e-02\n",
      " -1.00284829e-01  5.75462466e-02  2.16934391e-01 -6.53487170e-02\n",
      "  1.09846226e-01 -2.25380971e-01  1.73870990e-01 -9.38995826e-02\n",
      "  3.90162423e-01  6.10772772e-02  1.71837383e-01  1.00723019e-01\n",
      " -9.92583824e-03  5.33368073e-02 -7.60521054e-03 -3.70275697e-02\n",
      "  3.56938112e-03  3.27945809e-01  1.81154632e-01 -3.85911899e-02\n",
      " -1.60567645e-01 -5.99395421e-02 -4.69289116e-02  8.99120985e-02\n",
      " -1.63745862e-01  1.02604520e-01  2.83709522e-01  2.94432471e-01\n",
      " -2.75643933e-01 -1.67340907e-01  1.15466693e-01  3.15376284e-01\n",
      "  4.35743297e-03 -3.18236337e-02  3.91785793e-01 -1.48854086e-01\n",
      " -1.23544271e-01  1.61090268e-01 -4.79782607e-02 -5.38451644e-01\n",
      " -7.17252978e-02 -8.11630774e-02 -1.43471748e-01  2.57295122e-01\n",
      " -4.12432989e-01  1.67907350e-01  1.26099850e-02 -3.87625965e-02\n",
      " -1.52907379e-01 -1.85057281e-01  1.45700151e-01  4.58701422e-02\n",
      "  1.85952851e-01 -8.41384182e-02  2.44611886e-01 -1.98612212e-02\n",
      " -2.78235988e-01 -7.28962129e-02  1.98434477e-02  1.42940807e-01\n",
      " -1.05517381e-01 -6.11170607e-02  1.69369378e-01  2.50786414e-01\n",
      "  2.60644236e-01 -9.93856852e-02  1.96221433e-01 -1.25563404e-01\n",
      " -1.40080655e-01 -2.08976990e-02  2.60521644e-01  1.85564991e-01\n",
      " -1.28485424e-01  1.51315646e-01  2.21198973e-01 -1.03992239e-01\n",
      " -2.57504971e-01 -9.86347770e-02  1.96802004e-01 -1.34697424e-01\n",
      " -1.49495981e-01  8.91913007e-02  3.88584521e-02  5.31014359e-02\n",
      " -5.27363397e-04  1.23125778e-02 -8.55536577e-02 -1.14467202e-01\n",
      " -1.43349506e-01  2.40672062e-01  1.46501113e-01 -1.53893575e-01\n",
      " -1.05636719e-01 -1.91070576e-02 -1.88483461e-01 -2.04716945e-01\n",
      "  7.58568393e-03  2.38161983e-01 -1.45273952e-01 -1.65523578e-01\n",
      "  1.78434854e-01 -2.99346071e-01  1.08458979e-01 -2.75345416e-03\n",
      " -7.44721460e-02 -3.44819411e-02 -1.62986664e-01  4.38229582e-01\n",
      "  7.90740848e-02  1.64719733e-01  1.14846719e-02 -1.09898165e-01\n",
      "  1.20558022e-01 -4.61106176e-02  3.09452161e-01  1.66656150e-01\n",
      " -3.87510955e-02 -2.85358073e-02 -1.51864914e-01  3.95617631e-01\n",
      " -9.77670188e-02 -1.27130197e-01 -1.55751241e-01 -1.32720702e-01\n",
      "  3.22886528e-01 -3.12814067e-01 -2.04150076e-01 -7.08064721e-02\n",
      " -1.05727756e-01  1.56540203e-01 -9.05222101e-02 -1.23811956e-01\n",
      "  9.17043495e-02 -2.97576332e-01 -1.29433497e-01  8.98389572e-02\n",
      " -1.70192388e-01 -6.41416576e-02 -2.45983898e-02  2.24626052e-01\n",
      " -2.31894293e-02 -3.70099971e-02 -3.63485328e-02 -1.33218037e-01\n",
      "  8.98283292e-02 -1.09295379e-01  1.06226355e-01 -2.52809501e-01\n",
      "  2.85458449e-01 -2.55421345e-02  2.59791361e-01 -6.73800311e-02\n",
      "  3.29337440e-02 -1.28358034e-01  1.79124708e-01  5.56076286e-02\n",
      "  2.16616557e-01  1.53442281e-01 -4.76532294e-02  1.62569526e-01\n",
      "  1.06482725e-01  3.38788758e-01  1.20352379e-01  2.02018751e-01\n",
      " -1.21447956e-01 -4.03906411e-01 -8.47559187e-02  2.80152341e-01\n",
      "  6.72960728e-02  1.62951858e-01  1.80148525e-01 -7.21140375e-02\n",
      "  3.00030770e-01 -1.90673818e-01 -7.89297632e-02  2.25006760e-02\n",
      " -6.30197351e-02  1.32673393e-01  1.03067435e-01  1.66637210e-01\n",
      "  2.25891284e-01 -6.46820233e-02 -9.42455945e-02 -1.17073163e-01\n",
      " -3.25374073e-02 -1.73359393e-01 -9.94091568e-02  2.77629428e-03\n",
      " -3.51409647e-01  1.81299463e-01 -2.91224681e-02  3.48673746e-01\n",
      "  2.38585280e-02 -2.61516386e-02 -3.53106142e-02  1.51184089e-01\n",
      "  2.45782262e-01 -6.97679483e-02 -4.28487081e-02 -2.16993464e-01\n",
      " -2.86866089e-01  4.62452855e-02 -2.71241439e-01 -1.62868541e-01\n",
      "  4.77252547e-02 -4.02699033e-02  2.75755011e-01  1.29274475e-01\n",
      " -2.39810475e-01 -1.14508886e-01  5.74734920e-03 -1.24812067e-01\n",
      " -2.93857671e-01  1.83001641e-01 -2.90801082e-02 -8.53507325e-02\n",
      " -1.90151063e-01 -8.56370041e-02 -3.36187406e-02  2.42376218e-01\n",
      " -1.15343769e-01  1.11961713e-01 -2.10647741e-02  1.37019187e-01\n",
      " -2.77704027e-02  1.27566305e-01  7.92790947e-02 -5.07638886e-02\n",
      " -3.78144363e-02 -1.38027011e-02 -1.10854991e-01 -1.59994771e-02\n",
      " -4.12089143e-02 -3.72422691e-02  3.56275482e-01  2.67660724e-01\n",
      "  6.65236518e-02 -1.14102327e-01  2.14758959e-01 -6.69891186e-02\n",
      " -2.58616065e-01 -1.48696190e-02  6.12826248e-03 -3.81913682e-02\n",
      " -7.65655391e-02 -1.00901882e-01 -2.89857271e-01 -5.82215350e-01\n",
      "  2.71906765e-01  1.42211229e-01 -8.31096704e-02  1.99130624e-01\n",
      " -6.36607305e-02  5.34117877e-02  3.73630240e-01  5.99601079e-02\n",
      " -3.88251853e-02  2.85813665e-02 -4.30114214e-02 -3.98692002e-01\n",
      " -3.42389575e-01 -1.76171628e-01 -3.90096185e-01  1.85660086e-01\n",
      "  4.76701986e-02  3.77046495e-02 -1.18795354e-01  8.54903109e-02\n",
      "  1.61266177e-01  1.13366058e-01 -7.35460730e-02 -2.11422342e-01\n",
      " -4.84167119e-02 -1.10705315e-01  5.90881831e-02 -1.02526223e-01\n",
      " -2.61976521e-01  1.25782389e-02 -1.09745943e-01 -2.14354373e-02\n",
      " -7.37552184e-02 -1.77778651e-01  4.49191415e-01 -1.71222166e-03\n",
      "  9.35662506e-02  3.41149210e-02  1.91501562e-01 -1.60094581e-01\n",
      " -4.22426405e-01 -3.29195457e-02 -6.18960860e-02  1.14824129e-01\n",
      "  2.69029331e-01 -4.89065907e-02  8.15249547e-02  9.77382639e-02\n",
      " -5.27645756e-02  3.11904851e-02  1.00343221e-02 -7.93265571e-02\n",
      "  1.74226051e-01  4.62387390e-01  1.26383856e-01 -3.01416097e-01\n",
      " -3.48461679e-01  4.94782744e-02 -3.85825021e-02  1.03297564e-01\n",
      "  1.30145139e-01  9.11580949e-02  1.77288654e-01  1.51959234e-01\n",
      " -9.15554375e-02  2.58549717e-02 -5.72785864e-02  4.29557164e-02\n",
      " -5.70669279e-02 -1.16353028e-01  9.95062195e-02  3.26692421e-01\n",
      " -1.03373107e-01 -2.51404788e-01  1.36142194e-01 -9.63577281e-02\n",
      " -6.56842573e-02  1.16044107e-01  1.19421011e-01 -1.01541990e-01\n",
      " -2.75680856e-01 -1.62296757e-01  1.67311262e-01  2.23971371e-01\n",
      " -1.01956071e-01  1.84477880e-01 -1.72473089e-01  7.94167097e-04\n",
      " -4.45988017e-02 -2.47983863e-02 -4.35795854e-01 -8.96196479e-02\n",
      " -1.73480634e-01 -7.25462607e-02  2.94182952e-01 -1.05594539e-01\n",
      "  8.92980514e-02 -1.76195414e-01  2.80553590e-01 -1.43042959e-01\n",
      "  3.86977935e-01  1.23907118e-01  2.84176928e-05  9.55255227e-03\n",
      " -2.79172704e-01  4.88695897e-02 -5.22329615e-02 -5.87882757e-02\n",
      "  1.25526275e-01  1.01850599e-01  4.56362576e-02  3.39118499e-02\n",
      " -2.56199241e-01 -6.81944728e-02 -1.01530928e-01 -2.07058967e-02\n",
      "  2.45937995e-01  1.11308515e-01  8.63048131e-02  1.84129322e-01\n",
      "  1.69498484e-02 -6.85679526e-02 -2.55784503e-02 -1.08309466e-01\n",
      "  1.70778911e-01  4.01018518e-02 -3.89755138e-01 -2.88485290e-02\n",
      " -1.89972754e-01 -1.31140224e-02 -1.55846252e-01 -7.88652689e-02\n",
      " -1.24351748e-01  1.63637610e-01  8.89054731e-02 -1.26563961e-02\n",
      "  1.35589240e-01 -9.66168965e-02 -1.58977863e-01  2.80949514e-01\n",
      " -5.30697563e-02  9.01357707e-02  2.31489897e-01  3.78922704e-02\n",
      " -2.42259454e-01 -2.72682455e-01 -1.79806341e-01 -1.32500947e-02\n",
      "  1.52489405e-01 -4.91583502e-02 -4.48117804e-02  2.67224468e-02\n",
      "  3.88835743e-02 -2.94063981e-02  5.82179147e-03 -1.13856961e-01\n",
      " -1.13710415e-01  3.45798354e-02  8.70185267e-02 -8.44023978e-02\n",
      "  4.67035632e-02 -1.90190467e-01 -3.47941389e-01 -2.40965169e-01\n",
      " -5.10435423e-02  1.21518608e-01 -1.68441076e-01  2.76387743e-02\n",
      " -1.78063126e-01  4.18493719e-01 -3.92408552e-02 -8.31591948e-02\n",
      " -5.82740082e-04  8.82683146e-02 -1.03674475e-01  1.28881843e-03\n",
      "  9.74058012e-02  7.24080789e-02 -1.25986954e-02  1.73083854e-01\n",
      "  9.07744604e-02 -1.12131714e-01  1.08059686e-01  1.98489538e-01\n",
      "  3.78565739e-02 -4.70520284e-02  5.22138355e-02 -1.23058946e-01\n",
      "  1.97501443e-01  9.10311322e-02  9.77727516e-03  1.53449539e-01\n",
      "  2.98881893e-02 -1.53847478e-01  4.06390352e-01 -3.15174883e-01\n",
      "  1.58858103e-01  4.64622434e-02 -9.04051539e-02 -8.99042578e-02\n",
      "  3.26506590e-01  1.15807085e-02 -4.26897388e-01 -3.67731359e-01\n",
      "  2.33204498e-01 -1.73674764e-01 -2.70851564e-01 -1.12967980e-01\n",
      " -2.06298937e-01 -4.34746950e-03 -5.96626862e-02  2.67111868e-01\n",
      "  1.99036015e-01  3.58175134e-02 -3.93422439e-02 -1.87835939e-01\n",
      " -1.17943306e-01  2.47780795e-01 -3.26887882e-01 -1.40426509e-01\n",
      "  4.21380488e-01 -1.30471463e-01 -2.86793033e-01  9.83262427e-03\n",
      " -1.75041519e-01 -2.35983635e-01 -3.12574336e-01 -5.62144818e-02\n",
      "  1.73305785e-01 -1.29752193e-02 -1.37364429e-01 -9.78511999e-02\n",
      " -2.80675208e-02 -1.12798364e-01 -4.54765140e-02 -1.13504514e-01\n",
      "  7.38764535e-03  1.44179952e-01  3.55524320e-01  1.04358114e-01\n",
      "  7.60717069e-02  7.30094051e-02 -1.52906572e-01  1.76864761e-01\n",
      " -2.05097435e-01  9.21429497e-03 -2.46533311e-01 -9.93500644e-02\n",
      "  2.40666588e-01  5.14759533e-02 -8.31790513e-02 -3.26961915e-03\n",
      "  2.95422867e-01  3.03452470e-01  1.02645245e-01 -3.47848394e-02\n",
      " -1.01623458e-01  2.92485608e-01  1.08396246e-01  6.47998370e-02\n",
      " -1.10923149e-01  2.90073860e-02 -1.36883440e-02  2.51194830e-01\n",
      " -1.39010918e-01 -8.80251913e-02 -3.66989081e-01 -3.69940749e-01\n",
      " -5.95617835e-02  2.01856793e-01  4.64514473e-02  8.59132831e-02\n",
      "  4.13484855e-02 -8.27035416e-02 -2.52493528e-02  2.12511180e-03\n",
      " -7.01450350e-02 -1.56413592e-01  2.27098293e-01  3.98468800e-02\n",
      " -2.04323282e-01 -1.83221012e-02 -1.60239772e-01  1.71518207e-01\n",
      "  1.22889961e-01 -2.93436882e-01 -6.65423251e-02  1.41245682e-01\n",
      "  1.52604018e-01  1.10922676e-01 -1.57290848e-01 -3.61165545e-01\n",
      " -1.99692508e-01 -1.19655088e-01 -3.00322394e-02 -1.90972260e-01\n",
      " -1.91195288e-02  2.91870958e-01  1.97300226e-01 -1.48363374e-01\n",
      " -1.63874858e-01 -1.29077199e-01 -3.63101438e-01  3.91526851e-02\n",
      " -8.04511577e-02 -6.47292682e-02 -6.94043937e-02 -2.70870878e-02\n",
      "  3.08608385e-01  1.43496933e-01 -1.53190042e-02  3.69305872e-01\n",
      "  2.27968497e-02  5.42205431e-03  1.11885106e-01  2.03510984e-02]\n"
     ]
    }
   ],
   "source": [
    "# Train logistic regression model\n",
    "weights, bias,losses,weights_history = logistic_regression(X_train_scaled, y_train, learning_rate=0.1, n_iterations=3)"
   ]
  },
  {
   "cell_type": "code",
   "execution_count": 343,
   "id": "1719593b",
   "metadata": {},
   "outputs": [
    {
     "data": {
      "text/plain": [
       "array([ 0.00017534, -0.06969388,  0.09777121, -0.08937759])"
      ]
     },
     "execution_count": 343,
     "metadata": {},
     "output_type": "execute_result"
    }
   ],
   "source": [
    "# weights \n",
    "\n",
    "weights"
   ]
  },
  {
   "cell_type": "code",
   "execution_count": 344,
   "id": "1f7653d9",
   "metadata": {},
   "outputs": [
    {
     "data": {
      "text/plain": [
       "np.float64(0.0010985489705501211)"
      ]
     },
     "execution_count": 344,
     "metadata": {},
     "output_type": "execute_result"
    }
   ],
   "source": [
    "# bias\n",
    "\n",
    "bias"
   ]
  },
  {
   "cell_type": "code",
   "execution_count": 345,
   "id": "44a886c0",
   "metadata": {},
   "outputs": [
    {
     "data": {
      "image/png": "[encoded data removed]",
      "text/plain": [
       "<Figure size 1000x600 with 1 Axes>"
      ]
     },
     "metadata": {},
     "output_type": "display_data"
    }
   ],
   "source": [
    "# plot weight histories\n",
    "\n",
    "weights_history = np.array(weights_history)\n",
    "\n",
    "plt.figure(figsize=(10, 6))\n",
    "for i in range(weights_history.shape[1]):\n",
    "    plt.plot(weights_history[:, i], label=f'Weight {i}')\n",
    "\n",
    "plt.title('Weight Updates Over Time')\n",
    "plt.xlabel('Iteration')\n",
    "plt.ylabel('Weight Value')\n",
    "plt.legend()\n",
    "plt.grid(True)\n",
    "plt.show()"
   ]
  },
  {
   "cell_type": "code",
   "execution_count": 346,
   "id": "01363887",
   "metadata": {},
   "outputs": [
    {
     "data": {
      "text/plain": [
       "<Axes: >"
      ]
     },
     "execution_count": 346,
     "metadata": {},
     "output_type": "execute_result"
    },
    {
     "data": {
      "image/png": "[encoded data removed]",
      "text/plain": [
       "<Figure size 640x480 with 1 Axes>"
      ]
     },
     "metadata": {},
     "output_type": "display_data"
    }
   ],
   "source": [
    "# plot losses \n",
    "sns.lineplot(losses)"
   ]
  },
  {
   "cell_type": "code",
   "execution_count": 347,
   "metadata": {},
   "outputs": [
    {
     "name": "stdout",
     "output_type": "stream",
     "text": [
      "Test Accuracy: 0.8400\n"
     ]
    }
   ],
   "source": [
    "# Evaluate model on test data\n",
    "y_pred = predict(X_test_scaled, weights, bias)\n",
    "accuracy = np.mean(y_pred == y_test)\n",
    "print(f\"Test Accuracy: {accuracy:.4f}\")"
   ]
  }
 ],
 "metadata": {
  "kernelspec": {
   "display_name": "venv",
   "language": "python",
   "name": "python3"
  },
  "language_info": {
   "codemirror_mode": {
    "name": "ipython",
    "version": 3
   },
   "file_extension": ".py",
   "mimetype": "text/x-python",
   "name": "python",
   "nbconvert_exporter": "python",
   "pygments_lexer": "ipython3",
   "version": "3.12.3"
  }
 },
 "nbformat": 4,
 "nbformat_minor": 5
}
